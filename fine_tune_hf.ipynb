{
 "cells": [
  {
   "cell_type": "code",
   "execution_count": null,
   "metadata": {},
   "outputs": [],
   "source": [
    "from transformers import Trainer, TrainingArguments, GPT2LMHeadModel, AutoTokenizer\n",
    "from dataset_loading.data_loading import data_loading_hf_dataset\n",
    "\n",
    "# Define the model and other necessary objects\n",
    "model = GPT2LMHeadModel.from_pretrained(\"gpt2\")  # Define your model\n",
    "tokenizer = AutoTokenizer.from_pretrained(\"gpt2\")  # Define your tokenizer\n",
    "tokenizer.add_special_tokens({\"pad_token\": \"<pad>\"})\n",
    "model.resize_token_embeddings(len(tokenizer))\n",
    "train_dataset, test_dataset = data_loading_hf_dataset(\"databricks/databricks-dolly-15k\", \"gpt2\", test_size=2000)\n",
    "# train_dataloader = create_dataloaders(train_dataset, tokenizer, batch_size, shuffle, num_workers)\n",
    "# test_dataloader = create_dataloaders(test_dataset, tokenizer, batch_size, shuffle, num_workers)\n",
    "\n",
    "# Define the training arguments\n",
    "training_args = TrainingArguments(\n",
    "    output_dir=\"./saved_model\",\n",
    "    num_train_epochs=3,\n",
    "    per_device_train_batch_size=1,\n",
    "    per_device_eval_batch_size=1,\n",
    "    warmup_steps=500,\n",
    "    weight_decay=0.01,\n",
    "    # logging_dir=\"./logs\",\n",
    "    logging_steps=10,\n",
    "    evaluation_strategy=\"steps\",\n",
    "    eval_steps=100,\n",
    "    save_total_limit=5,\n",
    "    save_steps=10000,\n",
    "    bf16=True,no_cuda=True)\n",
    "\n",
    "# Define the trainer\n",
    "trainer = Trainer(\n",
    "    model=model,\n",
    "    tokenizer=tokenizer,\n",
    "    args=training_args,\n",
    "    train_dataset=train_dataset,\n",
    "    eval_dataset=test_dataset,\n",
    ")\n",
    "\n",
    "# Train the model\n",
    "trainer.train()\n"
   ]
  }
 ],
 "metadata": {
  "language_info": {
   "name": "python"
  },
  "orig_nbformat": 4
 },
 "nbformat": 4,
 "nbformat_minor": 2
}
